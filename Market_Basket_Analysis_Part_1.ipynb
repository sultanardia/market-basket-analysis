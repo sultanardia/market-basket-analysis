{
  "nbformat": 4,
  "nbformat_minor": 0,
  "metadata": {
    "colab": {
      "name": "Market Basket Analysis - Part 1.ipynb",
      "provenance": [],
      "collapsed_sections": [],
      "mount_file_id": "1C2LPg6kCrop619qQyrAooxA2cPKX78MC",
      "authorship_tag": "ABX9TyOjIijMlOUvACZnp+M1bttM",
      "include_colab_link": true
    },
    "kernelspec": {
      "display_name": "Python 3",
      "name": "python3"
    },
    "language_info": {
      "name": "python"
    }
  },
  "cells": [
    {
      "cell_type": "markdown",
      "metadata": {
        "id": "view-in-github",
        "colab_type": "text"
      },
      "source": [
        "<a href=\"https://colab.research.google.com/github/sultanardia/market-basket-analysis/blob/main/Market_Basket_Analysis_Part_1.ipynb\" target=\"_parent\"><img src=\"https://colab.research.google.com/assets/colab-badge.svg\" alt=\"Open In Colab\"/></a>"
      ]
    },
    {
      "cell_type": "code",
      "metadata": {
        "id": "lsxzeEj_nECZ"
      },
      "source": [
        "import pandas as pd\n",
        "from mlxtend.frequent_patterns import apriori, association_rules"
      ],
      "execution_count": null,
      "outputs": []
    },
    {
      "cell_type": "code",
      "metadata": {
        "id": "g_Vmnzftx_Ta"
      },
      "source": [
        "df = pd.read_csv('drive/MyDrive/Dataset/groceries - groceries.csv') "
      ],
      "execution_count": null,
      "outputs": []
    },
    {
      "cell_type": "code",
      "metadata": {
        "id": "U2ql2U8iDm96"
      },
      "source": [
        "df.fillna('Null', inplace = True)\n",
        "df.drop('Item(s)',inplace=True,axis=1)"
      ],
      "execution_count": null,
      "outputs": []
    },
    {
      "cell_type": "code",
      "metadata": {
        "id": "qhFGNEas4BPq"
      },
      "source": [
        "labels = []\n",
        "for x in df.values:\n",
        "  for y in x:\n",
        "    labels.append(y)"
      ],
      "execution_count": null,
      "outputs": []
    },
    {
      "cell_type": "code",
      "metadata": {
        "id": "84WUmHNDX50a"
      },
      "source": [
        "labels.remove('Null')"
      ],
      "execution_count": null,
      "outputs": []
    },
    {
      "cell_type": "code",
      "metadata": {
        "id": "fQB6Ijex7W_Q"
      },
      "source": [
        "labels = list(dict.fromkeys(labels))"
      ],
      "execution_count": null,
      "outputs": []
    },
    {
      "cell_type": "code",
      "metadata": {
        "id": "fXlHAU9T8iDK"
      },
      "source": [
        "raw = pd.DataFrame(columns = labels)"
      ],
      "execution_count": null,
      "outputs": []
    },
    {
      "cell_type": "code",
      "metadata": {
        "id": "A4FYmr829WZj"
      },
      "source": [
        "for iteration, x in enumerate(df.values):\n",
        "  for y in x:\n",
        "    if (y == 'Null'):\n",
        "      break\n",
        "    else:\n",
        "      raw.loc[iteration, y] = 1"
      ],
      "execution_count": null,
      "outputs": []
    },
    {
      "cell_type": "code",
      "metadata": {
        "id": "sDhAnpbWA9zb"
      },
      "source": [
        "raw.fillna(0, inplace = True)"
      ],
      "execution_count": null,
      "outputs": []
    },
    {
      "cell_type": "code",
      "metadata": {
        "id": "a92_bc916H8k"
      },
      "source": [
        "frequent_itemset = apriori(raw, min_support = 0.05, use_colnames = True)"
      ],
      "execution_count": null,
      "outputs": []
    },
    {
      "cell_type": "code",
      "metadata": {
        "colab": {
          "base_uri": "https://localhost:8080/",
          "height": 235
        },
        "id": "rALKNh8D6iU0",
        "outputId": "7ce15a95-4442-46a0-c1b9-bb54ad5f3d55"
      },
      "source": [
        "association_rules(frequent_itemset, metric = 'lift', min_threshold = 1).sort_values('lift', ascending = False)"
      ],
      "execution_count": null,
      "outputs": [
        {
          "output_type": "execute_result",
          "data": {
            "text/html": [
              "<div>\n",
              "<style scoped>\n",
              "    .dataframe tbody tr th:only-of-type {\n",
              "        vertical-align: middle;\n",
              "    }\n",
              "\n",
              "    .dataframe tbody tr th {\n",
              "        vertical-align: top;\n",
              "    }\n",
              "\n",
              "    .dataframe thead th {\n",
              "        text-align: right;\n",
              "    }\n",
              "</style>\n",
              "<table border=\"1\" class=\"dataframe\">\n",
              "  <thead>\n",
              "    <tr style=\"text-align: right;\">\n",
              "      <th></th>\n",
              "      <th>antecedents</th>\n",
              "      <th>consequents</th>\n",
              "      <th>antecedent support</th>\n",
              "      <th>consequent support</th>\n",
              "      <th>support</th>\n",
              "      <th>confidence</th>\n",
              "      <th>lift</th>\n",
              "      <th>leverage</th>\n",
              "      <th>conviction</th>\n",
              "    </tr>\n",
              "  </thead>\n",
              "  <tbody>\n",
              "    <tr>\n",
              "      <th>1</th>\n",
              "      <td>(yogurt)</td>\n",
              "      <td>(whole milk)</td>\n",
              "      <td>0.139502</td>\n",
              "      <td>0.255516</td>\n",
              "      <td>0.056024</td>\n",
              "      <td>0.401603</td>\n",
              "      <td>1.571735</td>\n",
              "      <td>0.020379</td>\n",
              "      <td>1.244132</td>\n",
              "    </tr>\n",
              "    <tr>\n",
              "      <th>0</th>\n",
              "      <td>(whole milk)</td>\n",
              "      <td>(yogurt)</td>\n",
              "      <td>0.255516</td>\n",
              "      <td>0.139502</td>\n",
              "      <td>0.056024</td>\n",
              "      <td>0.219260</td>\n",
              "      <td>1.571735</td>\n",
              "      <td>0.020379</td>\n",
              "      <td>1.102157</td>\n",
              "    </tr>\n",
              "    <tr>\n",
              "      <th>2</th>\n",
              "      <td>(other vegetables)</td>\n",
              "      <td>(whole milk)</td>\n",
              "      <td>0.193493</td>\n",
              "      <td>0.255516</td>\n",
              "      <td>0.074835</td>\n",
              "      <td>0.386758</td>\n",
              "      <td>1.513634</td>\n",
              "      <td>0.025394</td>\n",
              "      <td>1.214013</td>\n",
              "    </tr>\n",
              "    <tr>\n",
              "      <th>3</th>\n",
              "      <td>(whole milk)</td>\n",
              "      <td>(other vegetables)</td>\n",
              "      <td>0.255516</td>\n",
              "      <td>0.193493</td>\n",
              "      <td>0.074835</td>\n",
              "      <td>0.292877</td>\n",
              "      <td>1.513634</td>\n",
              "      <td>0.025394</td>\n",
              "      <td>1.140548</td>\n",
              "    </tr>\n",
              "    <tr>\n",
              "      <th>4</th>\n",
              "      <td>(whole milk)</td>\n",
              "      <td>(rolls/buns)</td>\n",
              "      <td>0.255516</td>\n",
              "      <td>0.183935</td>\n",
              "      <td>0.056634</td>\n",
              "      <td>0.221647</td>\n",
              "      <td>1.205032</td>\n",
              "      <td>0.009636</td>\n",
              "      <td>1.048452</td>\n",
              "    </tr>\n",
              "    <tr>\n",
              "      <th>5</th>\n",
              "      <td>(rolls/buns)</td>\n",
              "      <td>(whole milk)</td>\n",
              "      <td>0.183935</td>\n",
              "      <td>0.255516</td>\n",
              "      <td>0.056634</td>\n",
              "      <td>0.307905</td>\n",
              "      <td>1.205032</td>\n",
              "      <td>0.009636</td>\n",
              "      <td>1.075696</td>\n",
              "    </tr>\n",
              "  </tbody>\n",
              "</table>\n",
              "</div>"
            ],
            "text/plain": [
              "          antecedents         consequents  ...  leverage  conviction\n",
              "1            (yogurt)        (whole milk)  ...  0.020379    1.244132\n",
              "0        (whole milk)            (yogurt)  ...  0.020379    1.102157\n",
              "2  (other vegetables)        (whole milk)  ...  0.025394    1.214013\n",
              "3        (whole milk)  (other vegetables)  ...  0.025394    1.140548\n",
              "4        (whole milk)        (rolls/buns)  ...  0.009636    1.048452\n",
              "5        (rolls/buns)        (whole milk)  ...  0.009636    1.075696\n",
              "\n",
              "[6 rows x 9 columns]"
            ]
          },
          "metadata": {
            "tags": []
          },
          "execution_count": 37
        }
      ]
    }
  ]
}